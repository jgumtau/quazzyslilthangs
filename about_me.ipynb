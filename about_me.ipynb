{
  "nbformat": 4,
  "nbformat_minor": 0,
  "metadata": {
    "colab": {
      "provenance": [],
      "authorship_tag": "ABX9TyPladF76hLHylpucWIf4p2J",
      "include_colab_link": true
    },
    "kernelspec": {
      "name": "python3",
      "display_name": "Python 3"
    },
    "language_info": {
      "name": "python"
    }
  },
  "cells": [
    {
      "cell_type": "markdown",
      "metadata": {
        "id": "view-in-github",
        "colab_type": "text"
      },
      "source": [
        "<a href=\"https://colab.research.google.com/github/quasarfunk/quazzyslilthangs/blob/main/about_me.ipynb\" target=\"_parent\"><img src=\"https://colab.research.google.com/assets/colab-badge.svg\" alt=\"Open In Colab\"/></a>"
      ]
    },
    {
      "cell_type": "code",
      "execution_count": null,
      "metadata": {
        "id": "knP1PvX57OEA"
      },
      "outputs": [],
      "source": [
        "# say your name in a level 1 heading. state your pronouns in a level 2 heading."
      ]
    },
    {
      "cell_type": "markdown",
      "source": [
        "#   \n",
        "\n",
        "# James\n",
        "#### He/Him\n",
        "\n",
        "\n",
        "\n"
      ],
      "metadata": {
        "id": "mBGUBkU17kSh"
      }
    },
    {
      "cell_type": "code",
      "source": [
        "# share why you joined the bootcamp"
      ],
      "metadata": {
        "id": "9C0bqH_d9uNK"
      },
      "execution_count": null,
      "outputs": []
    },
    {
      "cell_type": "markdown",
      "source": [
        "#### **What brings you to the bootcamp?**\n",
        "I signed up for this bootcamp initially because I am on medical leave for several months due to health complications. I saw an ad for the bootcamp and thought that it would be a good idea to do something with my life while I waited to be diagnosed, feel better, etc etc. When I saw that it had a data science course, I was even more intrigued, and figured that it would definitely be worth my while. Now, here I am."
      ],
      "metadata": {
        "id": "xTuXbPxE9yGf"
      }
    },
    {
      "cell_type": "code",
      "source": [
        "# answer \"if you had the head of an animal on your human body, what would you pick?\""
      ],
      "metadata": {
        "id": "Uv8QUR9l96cS"
      },
      "execution_count": null,
      "outputs": []
    },
    {
      "cell_type": "markdown",
      "source": [
        "#### **If you had the head of a human body, but the head of an animal, what animal would you pick?**\n",
        "\n",
        "What a funny question! I would have the head of a coyote because that's what my fursona is, I guess, haha."
      ],
      "metadata": {
        "id": "cAwVgWLa-EuI"
      }
    },
    {
      "cell_type": "code",
      "source": [
        "# answer \"if you had to delete all but 3 apps from your smartphone, what would you keep?\""
      ],
      "metadata": {
        "id": "HO6Z7ZDN-puk"
      },
      "execution_count": null,
      "outputs": []
    },
    {
      "cell_type": "markdown",
      "source": [
        "#### **If you had to delete all but three apps from your smartphone, what would you keep?**\n",
        "Assuming system apps are a given, I would keep firefox, my notes app, and discord as they are the three I use the most, and are important for the functionality I find the most imperative."
      ],
      "metadata": {
        "id": "o3GGecpZ-z9Z"
      }
    },
    {
      "cell_type": "code",
      "source": [
        "# share your music taste"
      ],
      "metadata": {
        "id": "t2H0cuak-6K5"
      },
      "execution_count": null,
      "outputs": []
    },
    {
      "cell_type": "markdown",
      "source": [
        "#### **Share your taste in media with us.**\n",
        "I really like sci-fi. My favorite music is always rock, techno, or disco adjecent. My favorite movie is a tie between Electric Dreams and The Thing (1982), which both fall into these categories, I think. :)\n",
        "\n",
        "|Some Artists | I Enjoy |\n",
        "|---|---|\n",
        "| TWRP | Jeff Lynn |\n",
        "| Electric Light Orchestra | Phosgore |\n",
        "| Otep | MGMT |\n",
        "| Mamfy |"
      ],
      "metadata": {
        "id": "FeqnWlcJ_jpN"
      }
    },
    {
      "cell_type": "markdown",
      "source": [
        "[![\"Electric Dreams\"](https://i.ytimg.com/vi/-aH39gQu-X8/maxresdefault.jpg)](https://www.youtube.com/watch?v=JhjyTE0f6tY \"Electric Dreams Full Movie\")"
      ],
      "metadata": {
        "id": "G4xImZw9GG-5"
      }
    },
    {
      "cell_type": "markdown",
      "source": [
        "[![The Thing 1982](https://m.media-amazon.com/images/I/61Y4P8GaHSL._AC_UF894,1000_QL80_.jpg)](https://www.youtube.com/watch?v=5ftmr17M-a4 \"The Thing (1982) Trailer\")"
      ],
      "metadata": {
        "id": "Ssw4WlaVRbgm"
      }
    },
    {
      "cell_type": "code",
      "source": [
        "# share your hobbies"
      ],
      "metadata": {
        "id": "pEZPM4koAAEM"
      },
      "execution_count": null,
      "outputs": []
    },
    {
      "cell_type": "markdown",
      "source": [
        "#### **What sports/hobbies do you enjoy and why?**\n",
        "My hobby, if I may simplify, is exploration. If there is something to be explored, I have probably done so. This has lead to a basic understanding of many fields and comes in handy when I need to make a guess. A few examples are:\n",
        "1. Writing\n",
        "1. Music\n",
        "1. Art (traditional/digital)"
      ],
      "metadata": {
        "id": "d6JxrE3aADxa"
      }
    },
    {
      "cell_type": "code",
      "source": [],
      "metadata": {
        "id": "zbcG3uOYAbXZ"
      },
      "execution_count": null,
      "outputs": []
    }
  ]
}